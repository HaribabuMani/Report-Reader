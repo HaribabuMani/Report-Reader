{
  "nbformat": 4,
  "nbformat_minor": 0,
  "metadata": {
    "colab": {
      "provenance": [],
      "gpuType": "T4"
    },
    "kernelspec": {
      "name": "python3",
      "display_name": "Python 3"
    },
    "language_info": {
      "name": "python"
    },
    "accelerator": "GPU"
  },
  "cells": [
    {
      "cell_type": "code",
      "execution_count": null,
      "metadata": {
        "id": "AYJOggDKrI8k",
        "colab": {
          "base_uri": "https://localhost:8080/"
        },
        "outputId": "8937ddb3-847c-4b6b-8051-81b42b06b332"
      },
      "outputs": [
        {
          "output_type": "stream",
          "name": "stdout",
          "text": [
            "\u001b[?25l   \u001b[90m━━━━━━━━━━━━━━━━━━━━━━━━━━━━━━━━━━━━━━━━\u001b[0m \u001b[32m0.0/98.2 kB\u001b[0m \u001b[31m?\u001b[0m eta \u001b[36m-:--:--\u001b[0m\r\u001b[2K   \u001b[90m━━━━━━━━━━━━━━━━━━━━━━━━━━━━━━━━━━━━━━━━\u001b[0m \u001b[32m98.2/98.2 kB\u001b[0m \u001b[31m4.7 MB/s\u001b[0m eta \u001b[36m0:00:00\u001b[0m\n",
            "\u001b[?25h"
          ]
        }
      ],
      "source": [
        "!pip install gTTS gradio -q"
      ]
    },
    {
      "cell_type": "code",
      "execution_count": null,
      "metadata": {
        "id": "Ti5b7s5-rI8m"
      },
      "outputs": [],
      "source": [
        "from gtts import gTTS\n",
        "import gradio as gr"
      ]
    },
    {
      "cell_type": "code",
      "execution_count": null,
      "metadata": {
        "id": "4R8otbparI8n"
      },
      "outputs": [],
      "source": [
        "sample_report = \"\"\"\n",
        "Patient Name: Sai\n",
        "Age: 45\n",
        "Test: Breast Cancer Biopsy\n",
        "Result: Malignant\n",
        "Recommendation: Immediate consultation with oncologist is advised.\n",
        "\"\"\""
      ]
    },
    {
      "cell_type": "code",
      "execution_count": null,
      "metadata": {
        "id": "Ad1s6xJArI8o"
      },
      "outputs": [],
      "source": [
        "def read_report(text):\n",
        "    if not text.strip():\n",
        "        text = \"No report provided.\"\n",
        "    tts = gTTS(text, lang='en')\n",
        "    file_path = \"report_audio.mp3\"\n",
        "    tts.save(file_path)\n",
        "    return file_path"
      ]
    },
    {
      "cell_type": "code",
      "execution_count": null,
      "metadata": {
        "colab": {
          "base_uri": "https://localhost:8080/"
        },
        "id": "4lHxFE-XrI8o",
        "outputId": "cf0483b8-319d-4c11-e4b8-cf1d25c9bd6d"
      },
      "outputs": [
        {
          "output_type": "stream",
          "name": "stdout",
          "text": [
            "It looks like you are running Gradio on a hosted Jupyter notebook, which requires `share=True`. Automatically setting `share=True` (you can turn this off by setting `share=False` in `launch()` explicitly).\n",
            "\n",
            "Colab notebook detected. To show errors in colab notebook, set debug=True in launch()\n",
            "* Running on public URL: https://03fa460eb12baa6062.gradio.live\n",
            "\n",
            "This share link expires in 1 week. For free permanent hosting and GPU upgrades, run `gradio deploy` from the terminal in the working directory to deploy to Hugging Face Spaces (https://huggingface.co/spaces)\n"
          ]
        },
        {
          "output_type": "display_data",
          "data": {
            "text/plain": [
              "<IPython.core.display.HTML object>"
            ],
            "text/html": [
              "<div><iframe src=\"https://03fa460eb12baa6062.gradio.live\" width=\"100%\" height=\"500\" allow=\"autoplay; camera; microphone; clipboard-read; clipboard-write;\" frameborder=\"0\" allowfullscreen></iframe></div>"
            ]
          },
          "metadata": {}
        },
        {
          "output_type": "execute_result",
          "data": {
            "text/plain": []
          },
          "metadata": {},
          "execution_count": 5
        }
      ],
      "source": [
        "with gr.Blocks() as demo:\n",
        "    gr.Markdown(\"## 🩺 Healthcare Report Reader\")\n",
        "    gr.Markdown(\"Paste a medical report below and click **Read Report Aloud** to hear it.\")\n",
        "\n",
        "    report_input = gr.Textbox(label=\"Enter Report Text\", lines=8, value=sample_report)\n",
        "    output_audio = gr.Audio(label=\"Generated Voice\", type=\"filepath\")\n",
        "    button = gr.Button(\"Read Report Aloud\")\n",
        "\n",
        "    button.click(read_report, inputs=report_input, outputs=output_audio)\n",
        "\n",
        "demo.launch()"
      ]
    }
  ]
}